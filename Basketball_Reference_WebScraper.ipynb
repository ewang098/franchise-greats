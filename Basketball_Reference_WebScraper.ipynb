{
  "nbformat": 4,
  "nbformat_minor": 0,
  "metadata": {
    "colab": {
      "name": "Basketball-Reference_WebScraper.ipynb",
      "provenance": [],
      "collapsed_sections": []
    },
    "kernelspec": {
      "name": "python3",
      "display_name": "Python 3"
    }
  },
  "cells": [
    {
      "cell_type": "code",
      "metadata": {
        "id": "T3CF756-uuYD",
        "colab_type": "code",
        "colab": {}
      },
      "source": [
        "from bs4 import BeautifulSoup\n",
        "import pandas as pd\n",
        "import requests\n",
        "\n",
        "#establish all team abbreviations to allow paramaterization of url, note some team abv are old names as that is the url basketball-reference uses\n",
        "#ex: NJN (New Jersey Nets) for Brooklyn Nets\n",
        "teams = ['ATL','BOS','NJN','CHA','CHI','CLE','DAL','DEN','DET','GSW','HOU','IND',\n",
        "         'LAC','LAL','MEM','MIA','MIL','MIN','NOH','NYK','OKC','ORL','PHI',\n",
        "         'PHO','POR','SAC','SAS','TOR','UTA','WAS']\n",
        "\n",
        "#stats of interest, g (games), fg (field goals), trb (total rebounds), ast (assist), stl (steal), blk (block)\n",
        "df = pd.DataFrame(index=teams, columns=[\"Most Games\",\"Most Field Goals\",\"Most Rebounds\",\"Most Assists\",\"Most Steals\",\"Most Blocks\"])\n",
        "aID = [\"leaders_g\",\"leaders_fg\",\"leaders_trb\",\"leaders_ast\",\"leaders_stl\",\"leaders_blk\"]\n",
        "\n",
        "for i in range(len(teams)):\n",
        "    #pull HTML for each franchise\n",
        "    url = \"https://www.basketball-reference.com/teams/\"+teams[i]+\"/leaders_career.html\"\n",
        "\n",
        "    page = requests.get(url)\n",
        "\n",
        "    soup = BeautifulSoup(page.content,'html.parser')\n",
        "\n",
        "    franchiseRow = []\n",
        "    for j in range(len(aID)):\n",
        "        #for each franchise find each of the accomplishments of interest\n",
        "        temp = soup.find(\"div\",{\"id\": aID[j]})\n",
        "        player = temp.find('td',attrs={'class':'who'}).text.replace('*','')\n",
        "        #stat for future versions if needed\n",
        "        #stat = temp.find('td',attrs={'class':'value'}).text\n",
        "\n",
        "        franchiseRow.append(player)\n",
        "    #replace null values with acquired values\n",
        "    df.loc[teams[i]] = franchiseRow\n",
        "\n",
        "#replace outdated team names with current franchise name, (NJN,NOP)\n",
        "df.rename(index={'NJN':'BKN'},inplace=True)\n",
        "df.rename(index={'NOH':'NOP'},inplace=True)\n",
        "\n",
        "#convert to CSV\n",
        "df.to_csv('franchiseGreats.csv')"
      ],
      "execution_count": null,
      "outputs": []
    }
  ]
}